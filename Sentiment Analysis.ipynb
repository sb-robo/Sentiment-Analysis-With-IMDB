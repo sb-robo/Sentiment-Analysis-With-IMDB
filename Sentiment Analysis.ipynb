{
 "cells": [
  {
   "cell_type": "code",
   "execution_count": 1,
   "metadata": {},
   "outputs": [],
   "source": [
    "import numpy as np\n",
    "import os"
   ]
  },
  {
   "cell_type": "code",
   "execution_count": 2,
   "metadata": {},
   "outputs": [],
   "source": [
    "train_file_path = '../Dataset/IMDB/train'\n",
    "test_file_path = '../Dataset/IMDB/test'\n",
    "val_folder = ['pos','neg']"
   ]
  },
  {
   "cell_type": "code",
   "execution_count": 3,
   "metadata": {},
   "outputs": [],
   "source": [
    "def get_data(path):\n",
    "    text_list,rating = [],[]\n",
    "    for folder in os.listdir(path):\n",
    "        if folder in val_folder:\n",
    "            file_path = os.path.join(path,folder)\n",
    "            \n",
    "            for file in os.listdir(file_path):\n",
    "                with open(os.path.join(file_path,file),encoding='utf-8') as f:\n",
    "                    txt = f.read()\n",
    "                \n",
    "                rat = int((file.split('.')[0]).split('_')[-1])    \n",
    "                text_list.append(txt)\n",
    "                rating.append(rat)\n",
    "                    \n",
    "    return text_list,rating"
   ]
  },
  {
   "cell_type": "code",
   "execution_count": 4,
   "metadata": {},
   "outputs": [
    {
     "name": "stdout",
     "output_type": "stream",
     "text": [
      "25000 25000\n",
      "25000 25000\n"
     ]
    }
   ],
   "source": [
    "train,rat_train = get_data(train_file_path)\n",
    "test,rat_test = get_data(test_file_path)\n",
    "\n",
    "print(len(train),len(rat_train))\n",
    "print(len(test),len(rat_test))"
   ]
  },
  {
   "cell_type": "code",
   "execution_count": 5,
   "metadata": {},
   "outputs": [
    {
     "data": {
      "text/plain": [
       "\"Story of a man who has unnatural feelings for a pig. Starts out with a opening scene that is a terrific example of absurd comedy. A formal orchestra audience is turned into an insane, violent mob by the crazy chantings of it's singers. Unfortunately it stays absurd the WHOLE time with no general narrative eventually making it just too off putting. Even those from the era should be turned off. The cryptic dialogue would make Shakespeare seem easy to a third grader. On a technical level it's better than you might think with some good cinematography by future great Vilmos Zsigmond. Future stars Sally Kirkland and Frederic Forrest can be seen briefly.\""
      ]
     },
     "execution_count": 5,
     "metadata": {},
     "output_type": "execute_result"
    }
   ],
   "source": [
    "train[0]"
   ]
  },
  {
   "cell_type": "markdown",
   "metadata": {},
   "source": [
    "### Data Preprocessing"
   ]
  },
  {
   "cell_type": "markdown",
   "metadata": {},
   "source": [
    "- `Tokenize with Regular Expression`"
   ]
  },
  {
   "cell_type": "code",
   "execution_count": 6,
   "metadata": {},
   "outputs": [],
   "source": [
    "from nltk.tokenize import RegexpTokenizer"
   ]
  },
  {
   "cell_type": "code",
   "execution_count": 7,
   "metadata": {},
   "outputs": [],
   "source": [
    "tokenizer = RegexpTokenizer(\"[a-zA-Z]+\",)\n",
    "\n",
    "def get_tokenize_data(data):\n",
    "    \n",
    "    tokenize_data = []\n",
    "    for text in data:\n",
    "        tokens = ' '.join(i for i in tokenizer.tokenize(text))\n",
    "        tokenize_data.append(tokens)\n",
    "        \n",
    "    return tokenize_data"
   ]
  },
  {
   "cell_type": "code",
   "execution_count": 8,
   "metadata": {},
   "outputs": [],
   "source": [
    "train_tokenize = get_tokenize_data(train)\n",
    "test_tokenize = get_tokenize_data(test)"
   ]
  },
  {
   "cell_type": "markdown",
   "metadata": {},
   "source": [
    "- `Remove Stopwords from Tokenized Data`\n",
    "\n",
    "I am omitting Stopwords removal process by NLTK library. Instead, I am using NLPPREPROCESS because of its flexibility and better stopwords removal process.\n",
    "\n",
    "You can refer to this blog post: https://towardsdatascience.com/why-you-should-avoid-removing-stopwords-aa7a353d2a52"
   ]
  },
  {
   "cell_type": "code",
   "execution_count": 9,
   "metadata": {},
   "outputs": [],
   "source": [
    "from nlppreprocess import NLP"
   ]
  },
  {
   "cell_type": "code",
   "execution_count": 10,
   "metadata": {},
   "outputs": [],
   "source": [
    "nlp = NLP()\n",
    "\n",
    "def remove_stopword(data):\n",
    "    \n",
    "    stopword_data = []\n",
    "    for text in data:\n",
    "        text = text.lower()\n",
    "        text = (nlp.process(text)).split()\n",
    "        stopword_data.append(text)\n",
    "        \n",
    "    return stopword_data"
   ]
  },
  {
   "cell_type": "code",
   "execution_count": 11,
   "metadata": {},
   "outputs": [],
   "source": [
    "train_stopword = remove_stopword(train_tokenize)\n",
    "test_stopword = remove_stopword(test_tokenize)"
   ]
  },
  {
   "cell_type": "code",
   "execution_count": 12,
   "metadata": {},
   "outputs": [
    {
     "name": "stdout",
     "output_type": "stream",
     "text": [
      "['story', 'man', 'unnatural', 'feelings', 'pig', 'starts', 'out', 'with', 'opening', 'scene', 'terrific', 'example', 'absurd', 'comedy', 'formal', 'orchestra', 'audience', 'turned', 'into', 'insane', 'violent', 'mob', 'by', 'crazy', 'chantings', 's', 'singers', 'unfortunately', 'stays', 'absurd', 'whole', 'time', 'with', 'no', 'general', 'narrative', 'eventually', 'making', 'just', 'too', 'off', 'putting', 'even', 'those', 'from', 'era', 'should', 'turned', 'off', 'cryptic', 'dialogue', 'would', 'make', 'shakespeare', 'seem', 'easy', 'third', 'grader', 'technical', 'level', 's', 'better', 'than', 'you', 'might', 'think', 'with', 'good', 'cinematography', 'by', 'future', 'great', 'vilmos', 'zsigmond', 'future', 'stars', 'sally', 'kirkland', 'and', 'frederic', 'forrest', 'can', 'seen', 'briefly']\n"
     ]
    }
   ],
   "source": [
    "print(train_stopword[0])"
   ]
  },
  {
   "cell_type": "markdown",
   "metadata": {},
   "source": [
    "- `Stemming or Lemmatization`"
   ]
  },
  {
   "cell_type": "code",
   "execution_count": 17,
   "metadata": {},
   "outputs": [],
   "source": [
    "from nltk.stem.snowball import SnowballStemmer\n",
    "from nltk.stem import WordNetLemmatizer"
   ]
  },
  {
   "cell_type": "code",
   "execution_count": 19,
   "metadata": {},
   "outputs": [],
   "source": [
    "sb = SnowballStemmer('english')\n",
    "lm = WordNetLemmatizer()\n",
    "\n",
    "def stemming(data):\n",
    "    \n",
    "    stemming_data = []\n",
    "    for text in dat:\n",
    "        text = [sb.stem(w) for w in text]\n",
    "        stemming_data.append(text)\n",
    "    \n",
    "    return stemming_data\n",
    "\n",
    "def lemmatization(data):\n",
    "    \n",
    "    lemmatize_data = []\n",
    "    for text in data:\n",
    "        text = [lm.lemmatize(w) for w in text]\n",
    "        lemmatize_data.append(text)\n",
    "        \n",
    "    return lemmatize_data"
   ]
  },
  {
   "cell_type": "code",
   "execution_count": 15,
   "metadata": {},
   "outputs": [],
   "source": [
    "train_stemming = stemming(train_stopword)\n",
    "test_stemming = stemming(test_stopword)"
   ]
  },
  {
   "cell_type": "code",
   "execution_count": 20,
   "metadata": {},
   "outputs": [],
   "source": [
    "train_lemmatize = lemmatization(train_stopword)\n",
    "test_lemmatize = lemmatization(test_stopword)"
   ]
  },
  {
   "cell_type": "code",
   "execution_count": 16,
   "metadata": {},
   "outputs": [
    {
     "name": "stdout",
     "output_type": "stream",
     "text": [
      "['stori', 'man', 'unnatur', 'feel', 'pig', 'start', 'out', 'with', 'open', 'scene', 'terrif', 'exampl', 'absurd', 'comedi', 'formal', 'orchestra', 'audienc', 'turn', 'into', 'insan', 'violent', 'mob', 'by', 'crazi', 'chant', 's', 'singer', 'unfortun', 'stay', 'absurd', 'whole', 'time', 'with', 'no', 'general', 'narrat', 'eventu', 'make', 'just', 'too', 'off', 'put', 'even', 'those', 'from', 'era', 'should', 'turn', 'off', 'cryptic', 'dialogu', 'would', 'make', 'shakespear', 'seem', 'easi', 'third', 'grader', 'technic', 'level', 's', 'better', 'than', 'you', 'might', 'think', 'with', 'good', 'cinematographi', 'by', 'futur', 'great', 'vilmo', 'zsigmond', 'futur', 'star', 'salli', 'kirkland', 'and', 'freder', 'forrest', 'can', 'seen', 'briefli']\n"
     ]
    }
   ],
   "source": [
    "print(train_stemming[0])"
   ]
  },
  {
   "cell_type": "code",
   "execution_count": 22,
   "metadata": {},
   "outputs": [
    {
     "name": "stdout",
     "output_type": "stream",
     "text": [
      "['story', 'man', 'unnatural', 'feeling', 'pig', 'start', 'out', 'with', 'opening', 'scene', 'terrific', 'example', 'absurd', 'comedy', 'formal', 'orchestra', 'audience', 'turned', 'into', 'insane', 'violent', 'mob', 'by', 'crazy', 'chanting', 's', 'singer', 'unfortunately', 'stay', 'absurd', 'whole', 'time', 'with', 'no', 'general', 'narrative', 'eventually', 'making', 'just', 'too', 'off', 'putting', 'even', 'those', 'from', 'era', 'should', 'turned', 'off', 'cryptic', 'dialogue', 'would', 'make', 'shakespeare', 'seem', 'easy', 'third', 'grader', 'technical', 'level', 's', 'better', 'than', 'you', 'might', 'think', 'with', 'good', 'cinematography', 'by', 'future', 'great', 'vilmos', 'zsigmond', 'future', 'star', 'sally', 'kirkland', 'and', 'frederic', 'forrest', 'can', 'seen', 'briefly']\n"
     ]
    }
   ],
   "source": [
    "print(train_lemmatize[0])"
   ]
  },
  {
   "cell_type": "markdown",
   "metadata": {},
   "source": [
    "- `CountVectorizer`"
   ]
  },
  {
   "cell_type": "code",
   "execution_count": 1,
   "metadata": {},
   "outputs": [],
   "source": [
    "from sklearn.feature_extraction.text import CountVectorizer"
   ]
  },
  {
   "cell_type": "code",
   "execution_count": 2,
   "metadata": {},
   "outputs": [],
   "source": [
    "cv = CountVectorizer()"
   ]
  },
  {
   "cell_type": "code",
   "execution_count": null,
   "metadata": {},
   "outputs": [],
   "source": []
  }
 ],
 "metadata": {
  "kernelspec": {
   "display_name": "Python 3",
   "language": "python",
   "name": "python3"
  },
  "language_info": {
   "codemirror_mode": {
    "name": "ipython",
    "version": 3
   },
   "file_extension": ".py",
   "mimetype": "text/x-python",
   "name": "python",
   "nbconvert_exporter": "python",
   "pygments_lexer": "ipython3",
   "version": "3.8.5"
  }
 },
 "nbformat": 4,
 "nbformat_minor": 2
}

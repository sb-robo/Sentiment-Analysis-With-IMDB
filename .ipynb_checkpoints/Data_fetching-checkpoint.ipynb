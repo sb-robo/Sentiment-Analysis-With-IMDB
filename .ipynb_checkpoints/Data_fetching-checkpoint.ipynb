{
 "cells": [
  {
   "cell_type": "code",
   "execution_count": 1,
   "metadata": {},
   "outputs": [],
   "source": [
    "import numpy as np\n",
    "import os"
   ]
  },
  {
   "cell_type": "code",
   "execution_count": 2,
   "metadata": {},
   "outputs": [],
   "source": [
    "train_file_path = '../Dataset/IMDB/train'\n",
    "test_file_path = '../Dataset/IMDB/test'\n",
    "val_folder = ['pos','neg']"
   ]
  },
  {
   "cell_type": "code",
   "execution_count": 3,
   "metadata": {},
   "outputs": [],
   "source": [
    "def get_data(path):\n",
    "    text_list,rating = [],[]\n",
    "    for folder in os.listdir(path):\n",
    "        if folder in val_folder:\n",
    "            file_path = os.path.join(path,folder)\n",
    "            \n",
    "            for file in os.listdir(file_path):\n",
    "                with open(os.path.join(file_path,file),encoding='utf-8') as f:\n",
    "                    txt = f.read()\n",
    "                \n",
    "                rat = int((file.split('.')[0]).split('_')[-1])    \n",
    "                text_list.append(txt)\n",
    "                rating.append(rat)\n",
    "                    \n",
    "    return text_list,rating"
   ]
  },
  {
   "cell_type": "code",
   "execution_count": null,
   "metadata": {},
   "outputs": [],
   "source": []
  }
 ],
 "metadata": {
  "kernelspec": {
   "display_name": "Python 3",
   "language": "python",
   "name": "python3"
  },
  "language_info": {
   "codemirror_mode": {
    "name": "ipython",
    "version": 3
   },
   "file_extension": ".py",
   "mimetype": "text/x-python",
   "name": "python",
   "nbconvert_exporter": "python",
   "pygments_lexer": "ipython3",
   "version": "3.8.5"
  }
 },
 "nbformat": 4,
 "nbformat_minor": 4
}
